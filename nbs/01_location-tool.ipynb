{
 "cells": [
  {
   "cell_type": "markdown",
   "id": "29be6864-beff-403d-b197-79596f114019",
   "metadata": {},
   "source": [
    "Date: 8 Nov, 2024"
   ]
  },
  {
   "cell_type": "code",
   "execution_count": 1,
   "id": "b7a093dd-54fc-4115-a881-601135d2f61d",
   "metadata": {},
   "outputs": [],
   "source": [
    "import sys\n",
    "sys.path.append(\"..\")"
   ]
  },
  {
   "cell_type": "code",
   "execution_count": 2,
   "id": "47f23a78-bebc-450c-a13e-34561ed12449",
   "metadata": {},
   "outputs": [],
   "source": [
    "from dotenv import load_dotenv\n",
    "_ = load_dotenv(\"../.env\")"
   ]
  },
  {
   "cell_type": "code",
   "execution_count": 3,
   "id": "792188b9-6c7d-446d-88a5-6a51481f17f3",
   "metadata": {},
   "outputs": [],
   "source": [
    "from langchain_core.tools import tool\n",
    "from pydantic import BaseModel, Field\n",
    "\n",
    "from src.tools.location.location_matcher import LocationMatcher"
   ]
  },
  {
   "cell_type": "markdown",
   "id": "26bf58f0-fba4-47b7-9575-487ad1bb738e",
   "metadata": {},
   "source": [
    "### Inits"
   ]
  },
  {
   "cell_type": "code",
   "execution_count": 4,
   "id": "35c48d23-0c50-4e3b-8d0f-f70fd33d4d19",
   "metadata": {},
   "outputs": [],
   "source": [
    "GADM_CSV_PATH = \"../data/gadm.csv\"\n",
    "location_matcher = LocationMatcher(GADM_CSV_PATH)"
   ]
  },
  {
   "cell_type": "markdown",
   "id": "880d2207-343a-49f0-bb8d-f19f1418fec2",
   "metadata": {},
   "source": [
    "### Location Tool"
   ]
  },
  {
   "cell_type": "code",
   "execution_count": 5,
   "id": "2ee3a719-158c-4ac2-bcdb-63ce0ea80ce7",
   "metadata": {},
   "outputs": [],
   "source": [
    "class LocationInput(BaseModel):\n",
    "    \"\"\"Input schema for location finder tool\"\"\"\n",
    "    query: str = Field(\n",
    "        description=\"Name of the location to search for. Can be a city, region, or country name.\"\n",
    "    )\n",
    "    threshold: int = Field(\n",
    "        default=70,\n",
    "        description=\"Minimum similarity score (0-100) to consider a match. Default is 70.\",\n",
    "        ge=0,\n",
    "        le=100\n",
    "    )\n",
    "\n",
    "\n",
    "@tool(\"location-tool\", args_schema=LocationInput, return_direct=True)\n",
    "def location_tool(query: str, threshold: int = 70) -> dict:\n",
    "    \"\"\"Find locations and their administrative hierarchies given a place name.\n",
    "      Returns matches at different administrative levels (ADM2, ADM1, ISO) with their IDs and names.\n",
    "\n",
    "    Args:\n",
    "        query (str): Location name to search for\n",
    "        threshold (int, optional): Minimum similarity score. Defaults to 70.\n",
    "\n",
    "    Returns:\n",
    "        dict: matching locations\n",
    "    \"\"\"\n",
    "    try:\n",
    "        matches = location_matcher.find_matches(query, threshold=threshold)\n",
    "        return matches\n",
    "    except Exception as e:\n",
    "        return f\"Error finding locations: {str(e)}\""
   ]
  },
  {
   "cell_type": "markdown",
   "id": "7cc4b4ce-1ab2-4880-a785-9fa604d190ed",
   "metadata": {},
   "source": [
    "### Test"
   ]
  },
  {
   "cell_type": "code",
   "execution_count": 6,
   "id": "8856c2b7-ea5a-45cd-863a-ae2ec14f5073",
   "metadata": {},
   "outputs": [],
   "source": [
    "from langchain_ollama import ChatOllama\n",
    "from langchain_core.messages import AIMessage\n",
    "from langgraph.prebuilt import ToolNode\n",
    "\n",
    "llm = ChatOllama(model=\"mistral:instruct\", temperature=0)\n",
    "tools = [location_tool]\n",
    "tool_node = ToolNode(tools)\n",
    "llm_with_tools = llm.bind_tools(tools)"
   ]
  },
  {
   "cell_type": "code",
   "execution_count": 16,
   "id": "39261baa-03c1-4ea6-b59e-0402a9ae9a67",
   "metadata": {},
   "outputs": [],
   "source": [
    "result = llm_with_tools.invoke(\"find datasets near Milan\")"
   ]
  },
  {
   "cell_type": "code",
   "execution_count": 17,
   "id": "70695595-e77c-41cd-97d6-ee4c08fb57fd",
   "metadata": {},
   "outputs": [
    {
     "data": {
      "text/plain": [
       "[{'name': 'location-tool',\n",
       "  'args': {'query': 'Milan', 'threshold': 70},\n",
       "  'id': 'f8681f2f-af82-4286-88f9-71f586d33bf1',\n",
       "  'type': 'tool_call'}]"
      ]
     },
     "execution_count": 17,
     "metadata": {},
     "output_type": "execute_result"
    }
   ],
   "source": [
    "result.tool_calls"
   ]
  },
  {
   "cell_type": "code",
   "execution_count": 18,
   "id": "cee54b0e-ff33-45ee-ae82-ff49d517b2c6",
   "metadata": {},
   "outputs": [],
   "source": [
    "tool_result = tool_node.invoke({\n",
    "    \"messages\": [\n",
    "            AIMessage(\n",
    "                content=\"\", \n",
    "                tool_calls=result.tool_calls)\n",
    "        ]\n",
    "    })"
   ]
  },
  {
   "cell_type": "code",
   "execution_count": 23,
   "id": "489b4d91-59a9-467b-8ffb-323418a710a4",
   "metadata": {},
   "outputs": [
    {
     "data": {
      "text/plain": [
       "'[{\"iso\": \"ITA\", \"adm1\": 10.0, \"adm2\": 8.0, \"names\": {\"iso\": \"Italy\", \"adm1\": \"Lombardia\", \"adm2\": \"Milano\"}, \"score\": 91, \"match_type\": \"adm2\"}, {\"iso\": \"YEM\", \"adm1\": 8.0, \"adm2\": 8.0, \"names\": {\"iso\": \"Yemen\", \"adm1\": \"Al Mahwit\", \"adm2\": \"Milhan\"}, \"score\": 91, \"match_type\": \"adm2\"}, {\"iso\": \"DZA\", \"adm1\": 29.0, \"adm2\": 16.0, \"names\": {\"iso\": \"Algeria\", \"adm1\": \"Mila\", \"adm2\": \"Mila\"}, \"score\": 89, \"match_type\": \"adm2\"}]'"
      ]
     },
     "execution_count": 23,
     "metadata": {},
     "output_type": "execute_result"
    }
   ],
   "source": [
    "tool_result[\"messages\"][0].content"
   ]
  },
  {
   "cell_type": "code",
   "execution_count": null,
   "id": "22bee351-a00a-4b70-b754-0045d1753ae3",
   "metadata": {},
   "outputs": [],
   "source": []
  }
 ],
 "metadata": {
  "kernelspec": {
   "display_name": "Python 3 (ipykernel)",
   "language": "python",
   "name": "python3"
  },
  "language_info": {
   "codemirror_mode": {
    "name": "ipython",
    "version": 3
   },
   "file_extension": ".py",
   "mimetype": "text/x-python",
   "name": "python",
   "nbconvert_exporter": "python",
   "pygments_lexer": "ipython3",
   "version": "3.11.4"
  }
 },
 "nbformat": 4,
 "nbformat_minor": 5
}
